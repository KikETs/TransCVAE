{
 "cells": [
  {
   "cell_type": "code",
   "execution_count": 1,
   "id": "96b816c5",
   "metadata": {},
   "outputs": [
    {
     "name": "stdout",
     "output_type": "stream",
     "text": [
      "{'[#C]': 0, '[#N]': 1, '[*H0]': 2, '[=*H0]': 3, '[=Branch]': 4, '[=C]': 5, '[=N]': 6, '[=O]': 7, '[=S]': 8, '[Branch]': 9, '[C]': 10, '[Cl]': 11, '[EOS]': 12, '[F]': 13, '[NH0+1]': 14, '[N]': 15, '[OH0-1]': 16, '[O]': 17, '[PAD]': 18, '[PH1]': 19, '[P]': 20, '[Ring1]': 21, '[Ring2]': 22, '[SOS]': 23, '[S]': 24, '[SiH0]': 25, '[pop]': 26}\n",
      "27\n",
      "tensor([ 2, 10, 17, 10,  2, 18, 18, 18, 18, 18, 18, 18, 18, 18, 18, 18, 18, 18,\n",
      "        18, 18, 18, 18, 18, 18, 18, 18, 18, 18, 18, 18, 18, 18, 18, 18, 18, 18,\n",
      "        18, 18, 18, 18])\n",
      "tensor([23,  2, 10, 17, 10,  2, 18, 18, 18, 18, 18, 18, 18, 18, 18, 18, 18, 18,\n",
      "        18, 18, 18, 18, 18, 18, 18, 18, 18, 18, 18, 18, 18, 18, 18, 18, 18, 18,\n",
      "        18, 18, 18, 18])\n",
      "tensor([ 2, 10, 17, 10,  2, 12, 18, 18, 18, 18, 18, 18, 18, 18, 18, 18, 18, 18,\n",
      "        18, 18, 18, 18, 18, 18, 18, 18, 18, 18, 18, 18, 18, 18, 18, 18, 18, 18,\n",
      "        18, 18, 18, 18])\n"
     ]
    }
   ],
   "source": [
    "%load_ext autoreload\n",
    "%autoreload 2\n",
    "import torch, rdkit\n",
    "import sys, pathlib\n",
    "from pathlib import Path\n",
    "_THIS_FILE = Path(globals().get(\"__file__\", Path.cwd())).resolve()\n",
    "PROJECT_ROOT = _THIS_FILE.parent\n",
    "sys.path.insert(0, str(PROJECT_ROOT))\n",
    "from rdkit import Chem\n",
    "from utils.utils import *\n",
    "from utils.eval import *\n",
    "from utils.dataloader import *\n",
    "\n",
    "device   = \"cuda\"\n",
    "vocab = dataset.vocab\n",
    "index_to_token = {idx: token for token, idx in vocab.items()}"
   ]
  },
  {
   "cell_type": "code",
   "execution_count": 2,
   "id": "ebfab8a4",
   "metadata": {},
   "outputs": [],
   "source": [
    "def select_model(choice, latent):\n",
    "    if choice == \"Trans_MHA\":\n",
    "        from models.Trans_MHA import CVAE, PriorNet\n",
    "        model    = CVAE(latent_dim=latent).cuda().eval()\n",
    "        model.decoder.cuda().eval()\n",
    "        prior = PriorNet(y_dim=3, latent_dim=latent).cuda().eval()\n",
    "\n",
    "        save_path = (PROJECT_ROOT / \"models/weights\" / \"model_weights_dmodel256.pth\")\n",
    "        state_dict = torch.load(save_path)\n",
    "        model.load_state_dict(state_dict)\n",
    "\n",
    "        save_path = (PROJECT_ROOT / \"models/weights\" / \"model_weights_prior.pth\")\n",
    "        state_dict = torch.load(save_path)\n",
    "        prior.load_state_dict(state_dict)\n",
    "\n",
    "    # Trans\n",
    "    elif choice == \"Trans\":\n",
    "        from models.Trans import CVAE, PriorNet\n",
    "        model    = CVAE(latent_dim=latent).cuda().eval()\n",
    "        model.decoder.cuda().eval()\n",
    "        prior = PriorNet(y_dim=3, latent_dim=latent).cuda().eval()\n",
    "\n",
    "        save_path = (PROJECT_ROOT / \"models/weights\" / \"model_weights_dmodel256_no_mha.pth\")\n",
    "        state_dict = torch.load(save_path)\n",
    "        model.load_state_dict(state_dict)\n",
    "\n",
    "        save_path = (PROJECT_ROOT / \"models/weights\" / \"model_weights_prior_no_mha.pth\")\n",
    "        state_dict = torch.load(save_path)\n",
    "        prior.load_state_dict(state_dict)\n",
    "    # LSTM\n",
    "    elif choice == \"LSTM\":\n",
    "        from models.LSTM import CVAE, PriorNet\n",
    "        model    = CVAE(latent_dim=latent).cuda().eval()\n",
    "        model.decoder.cuda().eval()\n",
    "        prior = PriorNet(y_dim=3, latent_dim=latent).cuda().eval()\n",
    "\n",
    "        save_path = (PROJECT_ROOT / \"models/weights\" / \"model_weights_LSTM.pth\")\n",
    "        state_dict = torch.load(save_path)\n",
    "        model.load_state_dict(state_dict)\n",
    "\n",
    "        save_path = (PROJECT_ROOT / \"models/weights\" / \"model_weights_LSTM_prior.pth\")\n",
    "        state_dict = torch.load(save_path)\n",
    "        prior.load_state_dict(state_dict)\n",
    "\n",
    "\n",
    "    # LSTM + MHA\n",
    "    elif choice == \"LSTM_MHA\":\n",
    "        from models.LSTM_MHA import CVAE, PriorNet\n",
    "        model    = CVAE(latent_dim=latent).cuda().eval()\n",
    "        model.decoder.cuda().eval()\n",
    "        prior = PriorNet(y_dim=3, latent_dim=latent).cuda().eval()\n",
    "\n",
    "        save_path = (PROJECT_ROOT / \"models/weights\" / \"model_weights_LSTM_MHA.pth\")\n",
    "        state_dict = torch.load(save_path)\n",
    "        model.load_state_dict(state_dict)\n",
    "\n",
    "        save_path = (PROJECT_ROOT / \"models/weights\" / \"model_weights_LSTM_MHA_prior.pth\")\n",
    "        state_dict = torch.load(save_path)\n",
    "        prior.load_state_dict(state_dict)\n",
    "    \n",
    "\n",
    "    return model, prior"
   ]
  },
  {
   "cell_type": "code",
   "execution_count": 3,
   "id": "c6866acc",
   "metadata": {},
   "outputs": [],
   "source": [
    "choice = \"Trans_MHA\"\n",
    "latent_dim = 128\n",
    "model, prior = select_model(choice, latent_dim)"
   ]
  },
  {
   "cell_type": "code",
   "execution_count": 4,
   "id": "0a2ab5d2",
   "metadata": {},
   "outputs": [
    {
     "name": "stdout",
     "output_type": "stream",
     "text": [
      "IWAE  : -773.006\n"
     ]
    }
   ],
   "source": [
    "# -------------------------------------------------------------\n",
    "# 1. 무작위 배치 가져오기\n",
    "# -------------------------------------------------------------\n",
    "batch = get_random_batch(val_dataloader)       # (*batch 형태에 맞게 수정*)\n",
    "sm_enc, sm_dec_in, sm_dec_tgt, props = (t.to(device) for t in batch)\n",
    "\n",
    "# -------------------------------------------------------------\n",
    "# 2. IWAE\n",
    "# -------------------------------------------------------------\n",
    "if choice == \"Trans\" or choice == \"Trans_MHA\":\n",
    "    iwae = iwae_bound(model, prior, sm_enc, sm_dec_in, sm_dec_tgt, props).mean().item()\n",
    "elif choice == \"LSTM\":\n",
    "    iwae = iwae_bound_lstm(model, prior, sm_dec_in, sm_dec_tgt, props).mean().item()\n",
    "else:\n",
    "    iwae = iwae_bound_lstm_MHA(model, prior, sm_dec_in, sm_dec_tgt, props).mean().item()\n",
    "print(f\"IWAE  : {iwae:.3f}\")"
   ]
  },
  {
   "cell_type": "code",
   "execution_count": null,
   "id": "f8919888",
   "metadata": {},
   "outputs": [],
   "source": []
  }
 ],
 "metadata": {
  "kernelspec": {
   "display_name": "torch.venv",
   "language": "python",
   "name": "python3"
  },
  "language_info": {
   "codemirror_mode": {
    "name": "ipython",
    "version": 3
   },
   "file_extension": ".py",
   "mimetype": "text/x-python",
   "name": "python",
   "nbconvert_exporter": "python",
   "pygments_lexer": "ipython3",
   "version": "3.12.3"
  }
 },
 "nbformat": 4,
 "nbformat_minor": 5
}
