{
 "cells": [
  {
   "cell_type": "markdown",
   "id": "20a72643",
   "metadata": {},
   "source": [
    "PSMILES > lammps data file Generator full-automated system\n",
    "=======FRAMEWORK=======\n",
    "1. Polymer PSMILES -> completed polymer chain using pysoftk -> pdb file\n",
    "2. Li+, TFSI- ion into pdb file using RDKit\n",
    "3. Pack polymer chains and ions into one pdb file\n",
    "4. Convert pdb file into mol file using RDKit\n",
    "5. Convert packed mol file into .car and .mdf file\n",
    "6. Finally make LAMMPS input data using car and mdf files using insights2lammps.pl in EMC(Enhanced Monte-Carlo)"
   ]
  },
  {
   "cell_type": "code",
   "execution_count": null,
   "id": "610c2cfd",
   "metadata": {},
   "outputs": [],
   "source": [
    "'''\n",
    "IMPORT FILES\n",
    "'''\n",
    "import subprocess, math, datetime\n",
    "from rdkit import Chem\n",
    "from rdkit.Chem import AllChem\n",
    "from rdkit.Chem.Descriptors import ExactMolWt\n",
    "from pysoftk.linear_polymer.linear_polymer import Lp\n",
    "from pathlib import Path\n",
    "from rdkit.Chem.rdchem import HybridizationType as Hyb\n",
    "import numpy as np\n",
    "\n",
    "AVOGADRO = 6.02214076e23"
   ]
  },
  {
   "cell_type": "code",
   "execution_count": null,
   "id": "6d9045ad",
   "metadata": {},
   "outputs": [],
   "source": [
    "'''PARAMETERS'''\n",
    "star_smi      = \"*OCC(NC(*)=O)N\"\n",
    "dp            = 22\n",
    "shift         = 1.5\n",
    "relax_iters   = 3000\n",
    "target_density= 0.1\n",
    "unit_per_li   = 6.0\n",
    "\n",
    "polymer_pdb = \"polymer.pdb\"\n",
    "li_pdb      = \"li.pdb\"\n",
    "tfsi_pdb    = \"tfsi.pdb\"\n",
    "box_size    = 40.0  # Å\n",
    "packed_pdb = \"packed_manual.pdb\"\n",
    "output_mol = \"output.mol\""
   ]
  },
  {
   "cell_type": "markdown",
   "id": "24f39ac3",
   "metadata": {},
   "source": [
    "1. Building Linear Polymers"
   ]
  },
  {
   "cell_type": "code",
   "execution_count": null,
   "id": "90b6e8d5",
   "metadata": {},
   "outputs": [],
   "source": [
    "def build_polymer(psmiles, dp, shift, relax_iters, mol_out, pdb_out):\n",
    "    print(\"Building Linear Polmer...\")\n",
    "    mono = Chem.MolFromSmiles(psmiles.replace(\"*\",\"Br\"))\n",
    "    mono = Chem.AddHs(mono)\n",
    "    AllChem.EmbedMolecule(mono, AllChem.ETKDGv3())\n",
    "    AllChem.UFFOptimizeMolecule(mono, maxIters=1500)\n",
    "    linear = Lp(mono, \"Br\", dp, shift=shift)\n",
    "    poly = linear.linear_polymer(force_field=\"UFF\", relax_iterations=relax_iters)\n",
    "    mol_block = poly.write(\"mol\")\n",
    "    poly_rd = Chem.MolFromMolBlock(mol_block, removeHs=False)\n",
    "    Chem.MolToMolFile(poly_rd, mol_out, forceV3000=True)\n",
    "    Chem.MolToPDBFile(poly_rd, pdb_out)\n",
    "    return poly_rd, pdb_out\n",
    "\n",
    "def build_ion_pdb(smiles, pdb_out, embed=True):\n",
    "    m = Chem.MolFromSmiles(smiles)\n",
    "    m = Chem.AddHs(m)\n",
    "    if embed:\n",
    "        AllChem.EmbedMolecule(m, AllChem.ETKDGv3())\n",
    "        AllChem.UFFOptimizeMolecule(m, maxIters=1000)\n",
    "    Chem.MolToPDBFile(m, pdb_out)\n",
    "    return pdb_out\n",
    "\n",
    "def calc_chain_count(poly_mol, box_size, target_density):\n",
    "    mw = ExactMolWt(poly_mol)\n",
    "    vol_cm3 = (box_size**3)*1e-24\n",
    "    moles = target_density*vol_cm3/mw\n",
    "    chains = int(round(moles*AVOGADRO))\n",
    "    return max(chains,1)"
   ]
  },
  {
   "cell_type": "code",
   "execution_count": null,
   "id": "5ce7795c",
   "metadata": {},
   "outputs": [
    {
     "name": "stdout",
     "output_type": "stream",
     "text": [
      "Building Linear Polmer...\n"
     ]
    }
   ],
   "source": [
    "poly_mol, poly_pdb = build_polymer(\n",
    "    star_smi, dp, shift, relax_iters,\n",
    "    mol_out=\"polymer_v3000.mol\", pdb_out=\"polymer.pdb\"\n",
    ")\n",
    "print(\"Sucessfully build linear polymer\")"
   ]
  },
  {
   "cell_type": "markdown",
   "id": "3082095c",
   "metadata": {},
   "source": [
    "2. Li+, TFSI- -> .pdb"
   ]
  },
  {
   "cell_type": "code",
   "execution_count": 18,
   "id": "0af8ab43",
   "metadata": {},
   "outputs": [
    {
     "name": "stdout",
     "output_type": "stream",
     "text": [
      "→ Using 2 chains for 0.1 g/cm³\n",
      "→ Li⁺: 7, TFSI⁻: 7\n"
     ]
    }
   ],
   "source": [
    "# 2) count chains\n",
    "n_poly = calc_chain_count(poly_mol, box_size, target_density)\n",
    "print(f\"→ Using {n_poly} chains for {target_density} g/cm³\")\n",
    "\n",
    "# 3) ions\n",
    "li_pdb   = build_ion_pdb(\"[Li+]\", \"li.pdb\", embed=False)\n",
    "tfsi_smi = \"N(S(=O)(=O)C(F)(F)F)(S(=O)(=O)C(F)(F)F)[O-]\"\n",
    "tfsi_pdb = build_ion_pdb(tfsi_smi, \"tfsi.pdb\", embed=True)\n",
    "\n",
    "# 4) ion counts\n",
    "MW = ExactMolWt(poly_mol)\n",
    "salt_molality = 1.5\n",
    "li_count   = int(round(salt_molality * n_poly * MW / 1000))\n",
    "tfsi_count = li_count\n",
    "print(f\"→ Li⁺: {li_count}, TFSI⁻: {tfsi_count}\")"
   ]
  },
  {
   "cell_type": "markdown",
   "id": "0301ba9c",
   "metadata": {},
   "source": [
    "3. Pack into one pdb file"
   ]
  },
  {
   "cell_type": "code",
   "execution_count": null,
   "id": "92c4f735",
   "metadata": {},
   "outputs": [
    {
     "name": "stdout",
     "output_type": "stream",
     "text": [
      "Manual packing completed: packed_manual.pdb\n"
     ]
    }
   ],
   "source": [
    "def parse_pdb(pdb_file):\n",
    "    \"\"\"\n",
    "    Parse PDB file to extract ATOM/HETATM lines and their coordinates.\n",
    "    Returns:\n",
    "      atom_lines: list of original PDB lines (str)\n",
    "      coords: numpy array of shape (N, 3)\n",
    "    \"\"\"\n",
    "    atom_lines = []\n",
    "    coords = []\n",
    "    for line in open(pdb_file):\n",
    "        if line.startswith(('ATOM  ', 'HETATM')):\n",
    "            atom_lines.append(line.rstrip('\\n'))\n",
    "            x = float(line[30:38])\n",
    "            y = float(line[38:46])\n",
    "            z = float(line[46:54])\n",
    "            coords.append([x, y, z])\n",
    "    return atom_lines, np.array(coords)\n",
    "\n",
    "def write_pdb(output_file, lines):\n",
    "    \"\"\"\n",
    "    Write list of PDB lines to a file, adding an END record.\n",
    "    \"\"\"\n",
    "    with open(output_file, 'w') as f:\n",
    "        for line in lines:\n",
    "            f.write(line + '\\n')\n",
    "        f.write('END\\n')\n",
    "\n",
    "def random_insert_ions(poly_pdb, ion_pdb, num_ions, box_size,\n",
    "                       tol_poly_ion=3.0, tol_ion_ion=3.0, max_attempts=10000):\n",
    "    \"\"\"\n",
    "    Insert `num_ions` copies of the ion defined in ion_pdb into the polymer box\n",
    "    defined by poly_pdb, avoiding overlaps.\n",
    "\n",
    "    Returns:\n",
    "      combined_lines: list of PDB lines for polymer + inserted ions\n",
    "    \"\"\"\n",
    "    # Parse polymer and ion templates\n",
    "    poly_lines, poly_coords = parse_pdb(poly_pdb)\n",
    "    ion_lines, ion_coords = parse_pdb(ion_pdb)\n",
    "    # Center ion template at origin\n",
    "    centroid = ion_coords.mean(axis=0)\n",
    "    ion_coords_centered = ion_coords - centroid\n",
    "\n",
    "    placed_lines = []\n",
    "    placed_ion_coords = []\n",
    "\n",
    "    # Place ions one by one\n",
    "    for i in range(num_ions):\n",
    "        for attempt in range(max_attempts):\n",
    "            # propose random translation\n",
    "            tx, ty, tz = np.random.rand(3) * box_size\n",
    "            new_coords = ion_coords_centered + np.array([tx, ty, tz])\n",
    "            # check overlap with polymer\n",
    "            if np.min(np.linalg.norm(poly_coords[:, None, :] - new_coords[None, :, :], axis=2)) < tol_poly_ion:\n",
    "                continue\n",
    "            # check overlap with already placed ions\n",
    "            if placed_ion_coords:\n",
    "                existing = np.vstack(placed_ion_coords)\n",
    "                if np.min(np.linalg.norm(existing[:, None, :] - new_coords[None, :, :], axis=2)) < tol_ion_ion:\n",
    "                    continue\n",
    "            # accept this position\n",
    "            placed_ion_coords.append(new_coords)\n",
    "            # generate PDB lines with updated coordinates\n",
    "            for line, coord in zip(ion_lines, new_coords):\n",
    "                prefix = line[:30]\n",
    "                suffix = line[54:]\n",
    "                x_str = f\"{coord[0]:8.3f}\"\n",
    "                y_str = f\"{coord[1]:8.3f}\"\n",
    "                z_str = f\"{coord[2]:8.3f}\"\n",
    "                new_line = prefix + x_str + y_str + z_str + suffix\n",
    "                placed_lines.append(new_line)\n",
    "            break\n",
    "        else:\n",
    "            raise RuntimeError(f\"Failed to place ion #{i+1} without overlaps after {max_attempts} attempts\")\n",
    "\n",
    "    # Combine polymer and ion lines\n",
    "    combined_lines = poly_lines + placed_lines\n",
    "    return combined_lines\n",
    "\n",
    "num_li      = li_count\n",
    "num_tfsi    = tfsi_count\n",
    "\n",
    "# Insert Li+\n",
    "combined = random_insert_ions(polymer_pdb, li_pdb, num_li, box_size,\n",
    "                              tol_poly_ion=3.0, tol_ion_ion=3.0)\n",
    "# Insert TFSI-\n",
    "combined = combined + random_insert_ions(polymer_pdb, tfsi_pdb, num_tfsi, box_size,\n",
    "                                         tol_poly_ion=3.0, tol_ion_ion=3.0)\n",
    "\n",
    "# Write out final packed PDB\n",
    "write_pdb(\"packed_manual.pdb\", combined)\n",
    "\n",
    "print(f\"Manual packing completed: {packed_pdb}\")\n"
   ]
  },
  {
   "cell_type": "markdown",
   "id": "672f68c7",
   "metadata": {},
   "source": [
    "4. Convert .pdb file into .mol file"
   ]
  },
  {
   "cell_type": "code",
   "execution_count": 19,
   "id": "e054ae3e",
   "metadata": {},
   "outputs": [
    {
     "name": "stdout",
     "output_type": "stream",
     "text": [
      "✅ RDKit 우회 저장 완료: output.mol\n"
     ]
    }
   ],
   "source": [
    "# 1) PDB → Mol (sanitize=False, proximityBonding=True)\n",
    "mol = Chem.MolFromPDBFile(\n",
    "    \"packed_manual.pdb\",\n",
    "    sanitize=False,\n",
    "    removeHs=False,\n",
    "    proximityBonding=True\n",
    ")\n",
    "if mol is None:\n",
    "    raise RuntimeError(\"PDB 변환 실패\")\n",
    "\n",
    "# 2) sanitize하되 valence 체크만 빼고 수행\n",
    "flags = (Chem.SanitizeFlags.SANITIZE_ALL\n",
    "         & ~Chem.SanitizeFlags.SANITIZE_PROPERTIES)\n",
    "# SANITIZE_PROPERTIES 에 valence 검사도 포함되어 있습니다.\n",
    "Chem.SanitizeMol(mol, flags)\n",
    "\n",
    "# 3) Mol 파일로 저장 (forceV3000=False → V2000)\n",
    "Chem.MolToMolFile(mol, output_mol, forceV3000=False)\n",
    "print(f\"✅ RDKit 우회 저장 완료: {output_mol}\")"
   ]
  },
  {
   "cell_type": "markdown",
   "id": "aca04185",
   "metadata": {},
   "source": [
    "5. Convert .mol into .car and .mdf"
   ]
  },
  {
   "cell_type": "code",
   "execution_count": null,
   "id": "b14b10b5",
   "metadata": {},
   "outputs": [
    {
     "name": "stdout",
     "output_type": "stream",
     "text": [
      "[OK] wrote output.car and output.mdf\n"
     ]
    }
   ],
   "source": [
    "# ─────────────────────── Helpers ────────────────────────\n",
    "\n",
    "def safe_charge(atom):\n",
    "    if atom.HasProp('_GasteigerCharge'):\n",
    "        q = atom.GetDoubleProp('_GasteigerCharge')\n",
    "        return 0.0 if math.isnan(q) else q\n",
    "    return 0.0\n",
    "\n",
    "def atom_label(at, idx):\n",
    "    return f\"{at.GetSymbol()}{idx}\"\n",
    "\n",
    "def guess_pcff(atom):\n",
    "    sym = atom.GetSymbol()\n",
    "    hyb = atom.GetHybridization()\n",
    "    aro = atom.GetIsAromatic()\n",
    "    ring3 = atom.IsInRingSize(3)\n",
    "\n",
    "    if sym == \"C\":\n",
    "        if aro:      return \"cp\"\n",
    "        if hyb == Hyb.SP:   return \"ct\"\n",
    "        if hyb == Hyb.SP2:  return \"c=\"\n",
    "        return \"c3\"\n",
    "    if sym == \"O\":\n",
    "        return \"o_2\" if hyb == Hyb.SP2 else \"o\"\n",
    "    if sym == \"N\":\n",
    "        if aro:      return \"nb\"\n",
    "        if hyb == Hyb.SP2:  return \"n2\"\n",
    "        if ring3:    return \"n3m\"\n",
    "        return \"na\"\n",
    "    if sym == \"S\":\n",
    "        return \"sp\" if aro else \"s\"\n",
    "    if sym == \"H\":\n",
    "        heavy = atom.GetBonds()[0].GetOtherAtom(atom).GetSymbol()\n",
    "        return \"h*\" if heavy in (\"N\", \"O\") else \"h\"\n",
    "    return sym.lower()\n",
    "\n",
    "# ────────────────────────────── Writer ───────────────────\n",
    "\n",
    "def write_car(mol: Chem.Mol, fname: Path):\n",
    "    cell = (40.0, 40.0, 40.0, 90.0, 90.0, 90.0)\n",
    "    a, b, c, α, β, γ = cell\n",
    "    now = datetime.datetime.now().strftime(\"%a %b %d %H:%M:%S %Y\")\n",
    "    conf = mol.GetConformer()\n",
    "    lines = [\n",
    "        \"!BIOSYM archive 3\",\n",
    "        \"PBC=ON\",\n",
    "        \"Materials Studio Generated CAR File\",\n",
    "        f\"!DATE: {now}\",\n",
    "        f\"PBC{a:10.4f}{b:10.4f}{c:10.4f}{α:8.2f}{β:8.2f}{γ:8.2f}\",\n",
    "        \"\"\n",
    "    ]\n",
    "    for i, atom in enumerate(mol.GetAtoms(), start=1):\n",
    "        x, y, z = conf.GetAtomPosition(i-1)\n",
    "        lines.append(\n",
    "            f\"{atom_label(atom,i):<8}\"\n",
    "            f\"{x:10.4f}{y:10.4f}{z:10.4f} \"\n",
    "            f\"SYS_1: 1 {guess_pcff(atom):<4} {atom.GetSymbol():<2} \"\n",
    "            f\"{safe_charge(atom):6.4f}\"\n",
    "        )\n",
    "    lines += [\"end\", \"end\"]\n",
    "    fname.write_text(\"\\n\".join(lines))\n",
    "\n",
    "def write_mdf(mol: Chem.Mol, fname: Path):\n",
    "    if not mol.GetAtomWithIdx(0).HasProp('_GasteigerCharge'):\n",
    "        AllChem.ComputeGasteigerCharges(mol)\n",
    "    neigh = {i: [n.GetIdx() for n in atom.GetNeighbors()]\n",
    "             for i, atom in enumerate(mol.GetAtoms())}\n",
    "    now = datetime.datetime.now().strftime(\"%a %b %d %H:%M:%S %Y\")\n",
    "    hdr = [\n",
    "        \"!BIOSYM molecular_data 4\", \"\",\n",
    "        f\"!Date: {now}\", \"\",\n",
    "        \"#topology\", \"\",\n",
    "        \"@column 1 element\", \"@column 2 atom_type\",\n",
    "        \"@column 3 charge_group\", \"@column 4 isotope\",\n",
    "        \"@column 5 formal_charge\", \"@column 6 charge\",\n",
    "        \"@column 7 switching_atom\", \"@column 8 oop_flag\",\n",
    "        \"@column 9 chirality_flag\", \"@column 10 occupancy\",\n",
    "        \"@column 11 xray_temp_factor\", \"@column 12 connections\", \"\",\n",
    "        \"@molecule poly\", \"\"\n",
    "    ]\n",
    "    body = []\n",
    "    for i, atom in enumerate(mol.GetAtoms(), start=1):\n",
    "        base = (\n",
    "            f\"{atom_label(atom,i):<15}\"\n",
    "            f\"{atom.GetSymbol():<2}{guess_pcff(atom):<4}\"\n",
    "            f\" 1 0 0 {safe_charge(atom):8.4f} 0 0 8 1.0000  0.0000 \"\n",
    "        )\n",
    "        conns = \" \".join(atom_label(mol.GetAtomWithIdx(j), j+1)\n",
    "                         for j in neigh[i-1])\n",
    "        body.append(base + conns)\n",
    "    tail = [\"\", \"!\", \"#symmetry\", \"@periodicity 3 xyz\", \"@group (P1)\", \"\", \"#end\"]\n",
    "    fname.write_text(\"\\n\".join(hdr + body + tail))\n",
    "\n",
    "# ─────────────────────── Main ─────────────────────────────\n",
    "\n",
    "# Specify your input file here:\n",
    "input_path = Path(output_mol)  # or .mol2\n",
    "stem = input_path.stem\n",
    "\n",
    "# Load the molecule\n",
    "if input_path.suffix.lower() == \".mol2\":\n",
    "    mol = Chem.MolFromMol2File(str(input_path), sanitize=False, removeHs=False)\n",
    "else:\n",
    "    mol = Chem.MolFromMolFile(str(input_path), sanitize=False, removeHs=False)\n",
    "if mol is None:\n",
    "    raise RuntimeError(f\"RDKit failed to parse {input_path}\")\n",
    "\n",
    "# Ensure 3D conformation & charges\n",
    "if not mol.GetConformers():\n",
    "    AllChem.EmbedMolecule(mol, randomSeed=1)\n",
    "AllChem.ComputeGasteigerCharges(mol)\n",
    "\n",
    "# Write .car and .mdf\n",
    "car_file = Path(f\"{stem}.car\")\n",
    "mdf_file = Path(f\"{stem}.mdf\")\n",
    "write_car(mol, car_file)\n",
    "write_mdf(mol, mdf_file)\n",
    "print(f\"[OK] wrote {car_file} and {mdf_file}\")\n"
   ]
  },
  {
   "cell_type": "markdown",
   "id": "136cfc08",
   "metadata": {},
   "source": [
    "6. convert .mdf and .car into LAMMPS input data"
   ]
  },
  {
   "cell_type": "code",
   "execution_count": 22,
   "id": "fc411120",
   "metadata": {},
   "outputs": [
    {
     "name": "stdout",
     "output_type": "stream",
     "text": [
      "▶ insight2lammps.pl 실행 성공:\n",
      " insight2lammps v2.12.1 (August 20, 2018) (c) 2008-2018 Pieter J. in 't Veld\n",
      "\n",
      "Info: setting up force field\n",
      "Info: creating connectivity\n",
      "Info: creating types\n",
      "Info: writing lammps data file output.data\n",
      "Warning: nonbond type for [] not found\n",
      "Info: 0 automatic parameters\n",
      "\n",
      "\n"
     ]
    }
   ],
   "source": [
    "# Path to the insight2lammps.pl script\n",
    "script = Path.home() / \"emc\" / \"scripts\" / \"insight2lammps.pl\"\n",
    "input_base = \"output\" # without .car/.mdf extension\n",
    "\n",
    "cmd = [\n",
    "    \"perl\",\n",
    "    str(script),\n",
    "    \"-forcefield=pcff\",\n",
    "    \"-class=class2\",\n",
    "    input_base\n",
    "]\n",
    "\n",
    "result = subprocess.run(cmd, capture_output=True, text=True)\n",
    "if result.returncode != 0:\n",
    "    print(\"▶ insight2lammps.pl 실행 오류:\\n\", result.stderr)\n",
    "else:\n",
    "    print(\"▶ insight2lammps.pl 실행 성공:\\n\", result.stdout)"
   ]
  }
 ],
 "metadata": {
  "kernelspec": {
   "display_name": "pcff_env",
   "language": "python",
   "name": "python3"
  },
  "language_info": {
   "codemirror_mode": {
    "name": "ipython",
    "version": 3
   },
   "file_extension": ".py",
   "mimetype": "text/x-python",
   "name": "python",
   "nbconvert_exporter": "python",
   "pygments_lexer": "ipython3",
   "version": "3.10.13"
  }
 },
 "nbformat": 4,
 "nbformat_minor": 5
}
